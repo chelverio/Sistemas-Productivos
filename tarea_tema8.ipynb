{
 "cells": [
  {
   "cell_type": "code",
   "execution_count": 3,
   "metadata": {},
   "outputs": [
    {
     "name": "stdout",
     "output_type": "stream",
     "text": [
      "\n"
     ]
    }
   ],
   "source": [
    "archivo = open(\"hola2.txt\", \"r\")\n",
    "contenido = archivo.read()\n",
    "print(contenido)"
   ]
  },
  {
   "cell_type": "code",
   "execution_count": 1,
   "metadata": {},
   "outputs": [
    {
     "name": "stdout",
     "output_type": "stream",
     "text": [
      "Se detectó un número. Operación cancelada.\n"
     ]
    }
   ],
   "source": [
    "while True:\n",
    "    nueva_tarea = input(\"Introduce una nueva tarea: \")\n",
    "    \n",
    "    if nueva_tarea.isdigit():\n",
    "        print(\"Se detectó un número. Operación cancelada.\")\n",
    "        break  \n",
    "    \n",
    "    with open(\"hola2.txt\", \"a\") as archivo:\n",
    "        archivo.write(nueva_tarea + \"\\n\")\n"
   ]
  }
 ],
 "metadata": {
  "kernelspec": {
   "display_name": "Python 3",
   "language": "python",
   "name": "python3"
  },
  "language_info": {
   "codemirror_mode": {
    "name": "ipython",
    "version": 3
   },
   "file_extension": ".py",
   "mimetype": "text/x-python",
   "name": "python",
   "nbconvert_exporter": "python",
   "pygments_lexer": "ipython3",
   "version": "3.13.1"
  }
 },
 "nbformat": 4,
 "nbformat_minor": 2
}
