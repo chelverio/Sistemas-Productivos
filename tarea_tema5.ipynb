{
 "cells": [
  {
   "cell_type": "markdown",
   "metadata": {},
   "source": [
    "# Ejercicio 1"
   ]
  },
  {
   "cell_type": "code",
   "execution_count": null,
   "metadata": {},
   "outputs": [],
   "source": [
    "peliculas = [\"El Padrino\", \"Matrix\", \"Forrest Gump\"]\n",
    "print(peliculas[2])  # Imprime \"Forrest Gump\""
   ]
  },
  {
   "cell_type": "markdown",
   "metadata": {},
   "source": [
    "# Ejercicio 2"
   ]
  },
  {
   "cell_type": "code",
   "execution_count": null,
   "metadata": {},
   "outputs": [],
   "source": [
    "calificaciones = {\n",
    "    \"matemáticas\": 90,\n",
    "    \"historia\": 85,\n",
    "    \"física\": 78,\n",
    "    \"química\": 93\n",
    "}\n",
    "\n",
    "promedio = sum(calificaciones.values()) / len(calificaciones)\n",
    "print(f\"El promedio es: {promedio}\")"
   ]
  },
  {
   "cell_type": "markdown",
   "metadata": {},
   "source": [
    "# Ejercicio 3"
   ]
  },
  {
   "cell_type": "code",
   "execution_count": null,
   "metadata": {},
   "outputs": [],
   "source": [
    "hobbies = {\"leer\", \"correr\", \"cocinar\"}\n",
    "hobbies.add(\"bailar\")\n",
    "print(hobbies)"
   ]
  }
 ],
 "metadata": {
  "kernelspec": {
   "display_name": "Python 3",
   "language": "python",
   "name": "python3"
  },
  "language_info": {
   "name": "python",
   "version": "3.13.1"
  }
 },
 "nbformat": 4,
 "nbformat_minor": 2
}
