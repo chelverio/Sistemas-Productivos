{
 "cells": [
  {
   "cell_type": "markdown",
   "metadata": {},
   "source": [
    "class = Fabrica\n",
    "constructor = Maquina que crea objetos\n",
    "parametros = valores  de los atributos\n",
    "Las maquinas necesitan atributos\n",
    "self = este objeto"
   ]
  },
  {
   "cell_type": "code",
   "execution_count": null,
   "metadata": {},
   "outputs": [],
   "source": [
    "class Pokemon:\n",
    "    nombre = \"\"\n",
    "    tipo = \"\"\n",
    "    ph = 0\n",
    "    ataque = 0\n",
    "    defensa = 0\n",
    "    velocidad = 0\n",
    "\n",
    "    def describir():\n",
    "        print(f\"Nombre: {self.nombre}\")\n",
    "        print(f\"Tipo: {self.tipo}\")\n",
    "        print(f\"ph: {self.ph}\")\n",
    "        print(f\"Ataque: {self.ataque}\")\n",
    "        print(f\"defensa: {self.defensa}\")\n",
    "        print(f\"velocidad: {self.velocidad}\")"
   ]
  },
  {
   "cell_type": "code",
   "execution_count": null,
   "metadata": {},
   "outputs": [],
   "source": [
    "pokemon1 = Pokemon()\n",
    "pokemon1.nombre = \"Pikachu\"\n",
    "pokemon1.tipo = \"Electrico\"\n",
    "pokemon1.ph = 35\n",
    "pokemon1.ataque = 55\n",
    "pokemon1.defensa = 40\n",
    "pokemon1.velocidad = 100\n",
    "pokemon1.describir()\n"
   ]
  },
  {
   "cell_type": "code",
   "execution_count": null,
   "metadata": {},
   "outputs": [],
   "source": [
    "class Pokemones:\n",
    "    def __init__(self,nombre, tipo, ph, ataque, defensa, velocidad)\n",
    "        self.nombre = nombre\n",
    "        self.tipo = tipo\n",
    "        self.ph = ph\n",
    "        self.ataque = ataque\n",
    "        self.defensa = defensa\n",
    "        self.velocidad = velocidad\n",
    "    def describir(self):\n",
    "            print(f\"Nombre: {self.nombre}\")\n",
    "            print(f\"tipo: {self.tipo}\")\n",
    "            print(f\"ph:\" {self.ph})\n",
    "            print(f\"ataque:\" {self.ataque})\n",
    "            print(f\"defensa:\" {self.defensa})\n",
    "            print(f\"Velocidad\" {self.velocidad})\n",
    "\n",
    "    def ataque_fuego(self):\n",
    "        print(\"Ataque de fuego\")\n",
    "\n",
    "    def ataque_agua(self):\n",
    "        print(\"Ataque Agua\")\n"
   ]
  },
  {
   "cell_type": "code",
   "execution_count": null,
   "metadata": {},
   "outputs": [],
   "source": [
    "pokemon2 = Pokemones(\"Charmander\", \"Fuego\", 39, 52, 43, 65)\n",
    "pokemon3 = Pokemones(\"Squirtle\", \"Agua\", 40, 50, 30, 20,)\n",
    "pokemon2.describir()\n",
    "pokemon2.ataque_fuego()\n",
    "\n",
    "pokemon3.describir()\n",
    "pokemon3.ataque_agua()\n",
    "\n",
    "if(pokemon3.tipo == \"Fuego\"):\n",
    "    print(\"Es un pokemon de tipo Fuego\")\n",
    "    pokemon3.ataque_fuego()\n",
    "elif(pokemon3.tipo == \"Agua\"):\n",
    "    print(\"Es un pokemon de tipo Agua\")\n",
    "    pokemon3.ataque_agua()\n",
    "\n"
   ]
  }
 ],
 "metadata": {
  "kernelspec": {
   "display_name": "Python 3",
   "language": "python",
   "name": "python3"
  },
  "language_info": {
   "name": "python",
   "version": "3.13.1"
  }
 },
 "nbformat": 4,
 "nbformat_minor": 2
}
