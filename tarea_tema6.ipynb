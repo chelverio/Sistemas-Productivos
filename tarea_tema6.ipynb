{
 "cells": [
  {
   "cell_type": "markdown",
   "metadata": {},
   "source": [
    "# Ejercicio 1"
   ]
  },
  {
   "cell_type": "code",
   "execution_count": 64,
   "metadata": {},
   "outputs": [
    {
     "name": "stdout",
     "output_type": "stream",
     "text": [
      "Debes ingresar numeros validos\n"
     ]
    }
   ],
   "source": [
    "try:\n",
    "    num1 = float(input(\"Pon el primer numero\"))\n",
    "    num2 = float(input(\"Pon el segundo numero\"))\n",
    "    num3 = float(input(\"Pon el tercer numero\"))\n",
    "    resultado = num1 / num2 / num3\n",
    "    print(f\"el resultado es:\", {resultado})\n",
    "except ValueError:\n",
    "    print(\"Debes ingresar numeros validos\")\n",
    "except ZeroDivisionError:\n",
    "    print(\"No puedes dividir por cero\")\n",
    "    print(\"Estos numero no puede divir entre cero:\", {num1,num2,num3})\n",
    "except ZeroDivisionError:\n",
    " print(\"No puedes dividir por cero\")\n",
    "except ZeroDivisionError:\n",
    " print(\"No puedes dividir por cero\")\n",
    "\n",
    "\n"
   ]
  }
 ],
 "metadata": {
  "kernelspec": {
   "display_name": "Python 3",
   "language": "python",
   "name": "python3"
  },
  "language_info": {
   "codemirror_mode": {
    "name": "ipython",
    "version": 3
   },
   "file_extension": ".py",
   "mimetype": "text/x-python",
   "name": "python",
   "nbconvert_exporter": "python",
   "pygments_lexer": "ipython3",
   "version": "3.13.1"
  }
 },
 "nbformat": 4,
 "nbformat_minor": 2
}
