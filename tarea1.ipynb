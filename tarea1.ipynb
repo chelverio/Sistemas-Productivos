{
 "cells": [
  {
   "cell_type": "code",
   "execution_count": 1,
   "metadata": {},
   "outputs": [
    {
     "name": "stdout",
     "output_type": "stream",
     "text": [
      "Hola David\n",
      "tu edad es 20\n",
      "tu estado es Quintana Roo\n",
      "tu ciudad es Cancun\n"
     ]
    }
   ],
   "source": [
    "nombre = input(\"Dime tu nombre\")\n",
    "edad = input(\"Dime tu edad\")\n",
    "estado = input(\"dime cual es tu estado\")\n",
    "ciudad = input(\"dime cual es tu ciudad\")\n",
    "print(f\"Hola {nombre}\")\n",
    "print(f\"tu edad es {edad}\")\n",
    "print(f\"tu estado es {estado}\")\n",
    "print(f\"tu ciudad es {ciudad}\")"
   ]
  },
  {
   "cell_type": "markdown",
   "metadata": {},
   "source": [
    "## Ejercicio 2\n"
   ]
  },
  {
   "cell_type": "code",
   "execution_count": 15,
   "metadata": {},
   "outputs": [
    {
     "name": "stdout",
     "output_type": "stream",
     "text": [
      "Suma: 90.0\n",
      "Resta: 10.0\n",
      "Multiplicacion: 2000.0\n",
      "Division: 1.25\n"
     ]
    }
   ],
   "source": [
    "num1 = float(input(\"Introduce tu primer numero: \"))\n",
    "num2 = float(input(\"introduce tu segundo numero: \"))\n",
    "\n",
    "print(f\"Suma: {num1 + num2}\")\n",
    "print(f\"Resta: {num1 - num2}\")\n",
    "print(f\"Multiplicacion: {num1 * num2}\")\n",
    "print(f\"Division: {num1 / num2}\")"
   ]
  }
 ],
 "metadata": {
  "kernelspec": {
   "display_name": "Python 3",
   "language": "python",
   "name": "python3"
  },
  "language_info": {
   "codemirror_mode": {
    "name": "ipython",
    "version": 3
   },
   "file_extension": ".py",
   "mimetype": "text/x-python",
   "name": "python",
   "nbconvert_exporter": "python",
   "pygments_lexer": "ipython3",
   "version": "3.13.1"
  }
 },
 "nbformat": 4,
 "nbformat_minor": 2
}
