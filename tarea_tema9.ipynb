{
 "cells": [
  {
   "cell_type": "code",
   "execution_count": 21,
   "metadata": {},
   "outputs": [],
   "source": [
    "class Cancion:\n",
    "    def __init__(self, titulo, artista, album, duracion, genero):\n",
    "        self.titulo = titulo\n",
    "        self.artista = artista\n",
    "        self.album = album\n",
    "        self.duracion = duracion  \n",
    "        self.genero = genero\n",
    "\n",
    "    def describir(self):\n",
    "        print(f\"Título: {self.titulo}\")\n",
    "        print(f\"Artista: {self.artista}\")\n",
    "        print(f\"Álbum: {self.album}\")\n",
    "        print(f\"Duración: {self.duracion} segundos\")\n",
    "        print(f\"Género: {self.genero}\")\n",
    "    \n",
    "    def guardar_titulo(self):\n",
    "        archivo=f\"canciones/{self.titulo}.txt\" \n",
    "        with open(archivo, \"w\", encoding=\"utf-8\") as f:\n",
    "            f.write(self.titulo + \"\\n\")\n",
    "\n",
    "            \n",
    "    \n",
    "    def guardar_info(self):\n",
    "        archivo=f\"genero/{self.genero}.txt\"\n",
    "        with open(archivo, \"w\", encoding=\"utf-8\") as f:\n",
    "            f.write(f\"Artista: {self.artista}\\n\")\n",
    "            f.write(f\"Álbum: {self.album}\\n\")\n",
    "            f.write(f\"Duración: {self.duracion} segundos\\n\")\n",
    "            f.write(f\"Género: {self.genero}\\n\")\n",
    "\n",
    "    \n",
    "    \n",
    "\n"
   ]
  },
  {
   "cell_type": "code",
   "execution_count": 20,
   "metadata": {},
   "outputs": [
    {
     "name": "stdout",
     "output_type": "stream",
     "text": [
      "Título: Acid of Tunnel Love\n",
      "Artista: Toby Fox\n",
      "Álbum: Deltarune Soundtrack CH 2\n",
      "Duración: 120 segundos\n",
      "Género: Electronica\n"
     ]
    }
   ],
   "source": [
    "cancion1 = Cancion(\"Acid of Tunnel Love\", \"Toby Fox\", \"Deltarune Soundtrack CH 2\", \"120\", \"Electronica\")\n",
    "cancion1.describir()\n",
    "cancion1.guardar_titulo()\n",
    "cancion1.guardar_info()\n",
    "\n",
    "\n"
   ]
  }
 ],
 "metadata": {
  "kernelspec": {
   "display_name": "Python 3",
   "language": "python",
   "name": "python3"
  },
  "language_info": {
   "codemirror_mode": {
    "name": "ipython",
    "version": 3
   },
   "file_extension": ".py",
   "mimetype": "text/x-python",
   "name": "python",
   "nbconvert_exporter": "python",
   "pygments_lexer": "ipython3",
   "version": "3.13.1"
  }
 },
 "nbformat": 4,
 "nbformat_minor": 2
}
